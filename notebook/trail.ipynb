{
 "cells": [
  {
   "cell_type": "code",
   "execution_count": null,
   "id": "2efd9e4e",
   "metadata": {},
   "outputs": [],
   "source": [
    "import os"
   ]
  },
  {
   "cell_type": "code",
   "execution_count": null,
   "id": "8252a265",
   "metadata": {},
   "outputs": [],
   "source": [
    "os.getcwd()"
   ]
  },
  {
   "cell_type": "code",
   "execution_count": null,
   "id": "8711c58e",
   "metadata": {},
   "outputs": [],
   "source": [
    "os.chdir(\"..\")"
   ]
  },
  {
   "cell_type": "code",
   "execution_count": null,
   "id": "858dbf0a",
   "metadata": {},
   "outputs": [],
   "source": [
    "os.getcwd()"
   ]
  },
  {
   "cell_type": "code",
   "execution_count": null,
   "id": "723afec9",
   "metadata": {},
   "outputs": [],
   "source": [
    "from customer_support.utils import ConfigBox\n",
    "\n",
    "config=ConfigBox({\"name\":\"hasan\", \"age\":21})"
   ]
  },
  {
   "cell_type": "code",
   "execution_count": null,
   "id": "b5b52eb5",
   "metadata": {},
   "outputs": [],
   "source": [
    "config.name, config.age"
   ]
  },
  {
   "cell_type": "code",
   "execution_count": null,
   "id": "297e9976",
   "metadata": {},
   "outputs": [],
   "source": [
    "from dotenv import load_dotenv\n",
    "load_dotenv()"
   ]
  },
  {
   "cell_type": "code",
   "execution_count": null,
   "id": "60a7b93d",
   "metadata": {},
   "outputs": [],
   "source": [
    "import yaml, json\n",
    "import pandas as pd\n",
    "from box import ConfigBox\n",
    "from customer_support.utils import load_yaml"
   ]
  },
  {
   "cell_type": "code",
   "execution_count": null,
   "id": "6decae6a",
   "metadata": {},
   "outputs": [],
   "source": [
    "data=pd.read_csv(\"D:/Learnings/GenAI/KNAC/lecturersfiles/git resource/custmor_support_system/data/flipkart_product_review.csv\")"
   ]
  },
  {
   "cell_type": "code",
   "execution_count": null,
   "id": "b1bf2bbf",
   "metadata": {},
   "outputs": [],
   "source": [
    "# create required vars\n",
    "old_schema=load_yaml(\"schema/schema.yaml\")\n",
    "schema = dict()\n",
    "columns_with_dtype = dict()\n",
    "numerical_columns = list()\n",
    "\n",
    "for col in data.columns:\n",
    "    columns_with_dtype[col] = str(data[col].dtype)\n",
    "    if data[col].dtype!=\"O\":\n",
    "        numerical_columns.append(col)\n",
    "\n",
    "schema[\"columns\"] = columns_with_dtype\n",
    "schema[\"numerical_columns\"] = numerical_columns\n",
    "\n",
    "new_schema=ConfigBox(schema)\n",
    "True if old_schema==new_schema else False\n"
   ]
  },
  {
   "cell_type": "code",
   "execution_count": null,
   "id": "d9159f6f",
   "metadata": {},
   "outputs": [],
   "source": [
    "print(json.dumps(old_schema, indent=4))\n",
    "print(json.dumps(new_schema, indent=4))"
   ]
  },
  {
   "cell_type": "code",
   "execution_count": null,
   "id": "bed17893",
   "metadata": {},
   "outputs": [],
   "source": [
    "from customer_support.cloud import S3_Cloud\n",
    "from customer_support.utils import load_yaml\n",
    "\n",
    "config=load_yaml(\"config/config.yaml\")\n",
    "cloud=S3_Cloud(\n",
    "    bucket=config.DATA_INGESTION.S3_BUCKET,\n",
    "    object_name=config.DATA_INGESTION.S3_OBJECT\n",
    ")"
   ]
  },
  {
   "cell_type": "code",
   "execution_count": null,
   "id": "d7ba25ff",
   "metadata": {},
   "outputs": [],
   "source": [
    "file_path=\"data/data.csv\""
   ]
  },
  {
   "cell_type": "code",
   "execution_count": null,
   "id": "9e397739",
   "metadata": {},
   "outputs": [],
   "source": [
    "# cloud.upload_file(file_path)"
   ]
  },
  {
   "cell_type": "code",
   "execution_count": null,
   "id": "aba31315",
   "metadata": {},
   "outputs": [],
   "source": [
    "content=cloud.download_file(file_path)"
   ]
  },
  {
   "cell_type": "code",
   "execution_count": null,
   "id": "42e36f98",
   "metadata": {},
   "outputs": [],
   "source": [
    "print(content)"
   ]
  },
  {
   "cell_type": "code",
   "execution_count": null,
   "id": "9642843e",
   "metadata": {},
   "outputs": [],
   "source": [
    "from langchain_groq import ChatGroq"
   ]
  },
  {
   "cell_type": "code",
   "execution_count": null,
   "id": "bd24d6c4",
   "metadata": {},
   "outputs": [],
   "source": [
    "llama_small=ChatGroq(model=\"llama3-8b-8192\")"
   ]
  },
  {
   "cell_type": "code",
   "execution_count": null,
   "id": "e70a12c3",
   "metadata": {},
   "outputs": [],
   "source": [
    "llama_large=ChatGroq(model=\"llama3-70b-8192\")"
   ]
  },
  {
   "cell_type": "code",
   "execution_count": null,
   "id": "1bcf0e5d",
   "metadata": {},
   "outputs": [],
   "source": [
    "print(llama_small.invoke(\"what is 99 times of 1*64+3234-344/230\").content)"
   ]
  },
  {
   "cell_type": "code",
   "execution_count": null,
   "id": "1276980f",
   "metadata": {},
   "outputs": [],
   "source": [
    "print(llama_large.invoke(\"what is 99 times of 1*64+3234-344/230\").content)"
   ]
  },
  {
   "cell_type": "code",
   "execution_count": null,
   "id": "59f9ac0d",
   "metadata": {},
   "outputs": [],
   "source": [
    "from dataclasses import dataclass\n",
    "\n",
    "@dataclass \n",
    "class sum:\n",
    "    a:int\n",
    "    b:int\n",
    "    def __post_init__(self):\n",
    "        self.output=self.a+self.b\n",
    "\n",
    "    def __call__(self):\n",
    "        return self.output"
   ]
  },
  {
   "cell_type": "code",
   "execution_count": null,
   "id": "4fd17a65",
   "metadata": {},
   "outputs": [],
   "source": [
    "obj=sum(a=2, b=3)"
   ]
  },
  {
   "cell_type": "code",
   "execution_count": null,
   "id": "d2cc5022",
   "metadata": {},
   "outputs": [],
   "source": [
    "obj.a, obj.b"
   ]
  },
  {
   "cell_type": "code",
   "execution_count": null,
   "id": "308e2117",
   "metadata": {},
   "outputs": [],
   "source": [
    "obj.output"
   ]
  },
  {
   "cell_type": "code",
   "execution_count": null,
   "id": "67f4f174",
   "metadata": {},
   "outputs": [],
   "source": [
    "obj()"
   ]
  },
  {
   "cell_type": "code",
   "execution_count": null,
   "id": "da6e1169",
   "metadata": {},
   "outputs": [],
   "source": []
  }
 ],
 "metadata": {
  "kernelspec": {
   "display_name": ".venv",
   "language": "python",
   "name": "python3"
  },
  "language_info": {
   "codemirror_mode": {
    "name": "ipython",
    "version": 3
   },
   "file_extension": ".py",
   "mimetype": "text/x-python",
   "name": "python",
   "nbconvert_exporter": "python",
   "pygments_lexer": "ipython3",
   "version": "3.10.16"
  }
 },
 "nbformat": 4,
 "nbformat_minor": 5
}
